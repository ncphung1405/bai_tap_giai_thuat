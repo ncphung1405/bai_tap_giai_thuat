{
  "nbformat": 4,
  "nbformat_minor": 0,
  "metadata": {
    "colab": {
      "name": "BT03. Tính giai thừa của 1 số.ipynb",
      "provenance": [],
      "include_colab_link": true
    },
    "kernelspec": {
      "name": "python3",
      "display_name": "Python 3"
    },
    "language_info": {
      "name": "python"
    }
  },
  "cells": [
    {
      "cell_type": "markdown",
      "metadata": {
        "id": "view-in-github",
        "colab_type": "text"
      },
      "source": [
        "<a href=\"https://colab.research.google.com/github/ncphung1405/bai_tap_giai_thuat/blob/main/BT03_T%C3%ADnh_giai_th%E1%BB%ABa_c%E1%BB%A7a_1_s%E1%BB%91.ipynb\" target=\"_parent\"><img src=\"https://colab.research.google.com/assets/colab-badge.svg\" alt=\"Open In Colab\"/></a>"
      ]
    },
    {
      "cell_type": "code",
      "metadata": {
        "colab": {
          "base_uri": "https://localhost:8080/"
        },
        "id": "9cPPknEpToCa",
        "outputId": "41e0d487-293f-43e7-dc32-4a1c68c888c4"
      },
      "source": [
        "def giaithua(n):\n",
        "    \n",
        "    if n == 1: \n",
        "       return 1 \n",
        "    else: \n",
        "        return (n * giaithua(n-1))\n",
        "\n",
        "num = int(input(\"Nhập số cần tính giai thừa: \"))\n",
        "\n",
        "print(\"Giai thừa của\", num, \"là\", giaithua(num)) "
      ],
      "execution_count": null,
      "outputs": [
        {
          "output_type": "stream",
          "text": [
            "Nhập số cần tính giai thừa: 20\n",
            "Giai thừa của 20 là 2432902008176640000\n"
          ],
          "name": "stdout"
        }
      ]
    }
  ]
}