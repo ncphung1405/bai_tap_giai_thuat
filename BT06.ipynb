{
  "nbformat": 4,
  "nbformat_minor": 0,
  "metadata": {
    "colab": {
      "name": "BT06.ipynb",
      "provenance": [],
      "include_colab_link": true
    },
    "kernelspec": {
      "name": "python3",
      "display_name": "Python 3"
    },
    "language_info": {
      "name": "python"
    }
  },
  "cells": [
    {
      "cell_type": "markdown",
      "metadata": {
        "id": "view-in-github",
        "colab_type": "text"
      },
      "source": [
        "<a href=\"https://colab.research.google.com/github/ncphung1405/bai_tap_giai_thuat/blob/main/BT06.ipynb\" target=\"_parent\"><img src=\"https://colab.research.google.com/assets/colab-badge.svg\" alt=\"Open In Colab\"/></a>"
      ]
    },
    {
      "cell_type": "code",
      "metadata": {
        "colab": {
          "base_uri": "https://localhost:8080/"
        },
        "id": "PGRqbsKndYF3",
        "outputId": "201abe54-c39d-43f9-8654-8907c7a5922b"
      },
      "source": [
        "class Node: \n",
        "  \n",
        "    # Function to initialise the node object \n",
        "    def __init__(self, data): \n",
        "        self.data = data  # Assign data \n",
        "        self.next = None  # Initialize next as null \n",
        "  \n",
        "  \n",
        "# Linked List class contains a Node object \n",
        "class LinkedList: \n",
        "  \n",
        "    # Function to initialize head \n",
        "    def __init__(self): \n",
        "        self.head = None\n",
        "  \n",
        "    # This function prints contents of linked list \n",
        "    # starting from head \n",
        "    def printList(self): \n",
        "        temp = self.head \n",
        "        while (temp): \n",
        "            print (temp.data) \n",
        "            temp = temp.next\n",
        "  \n",
        "  \n",
        "# Code execution starts here \n",
        "if __name__=='__main__': \n",
        "  \n",
        "    # Start with the empty list \n",
        "    llist = LinkedList() \n",
        "  \n",
        "    llist.head = Node(1) \n",
        "    second = Node(2) \n",
        "    third = Node(3) \n",
        "  \n",
        "    llist.head.next = second; # Link first node with second \n",
        "    second.next = third; # Link second node with the third node \n",
        "  \n",
        "    llist.printList()"
      ],
      "execution_count": null,
      "outputs": [
        {
          "output_type": "stream",
          "text": [
            "1\n",
            "2\n",
            "3\n"
          ],
          "name": "stdout"
        }
      ]
    }
  ]
}