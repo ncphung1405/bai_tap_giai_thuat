{
  "nbformat": 4,
  "nbformat_minor": 0,
  "metadata": {
    "colab": {
      "name": "Untitled6.ipynb",
      "provenance": [],
      "authorship_tag": "ABX9TyMqQrDz7KvPDTSwQjPFBh/7",
      "include_colab_link": true
    },
    "kernelspec": {
      "name": "python3",
      "display_name": "Python 3"
    },
    "language_info": {
      "name": "python"
    }
  },
  "cells": [
    {
      "cell_type": "markdown",
      "metadata": {
        "id": "view-in-github",
        "colab_type": "text"
      },
      "source": [
        "<a href=\"https://colab.research.google.com/github/ncphung1405/bai_tap_giai_thuat/blob/main/bai_tap_danh_sach_li%C3%AAn_ket.ipynb\" target=\"_parent\"><img src=\"https://colab.research.google.com/assets/colab-badge.svg\" alt=\"Open In Colab\"/></a>"
      ]
    },
    {
      "cell_type": "code",
      "metadata": {
        "id": "p1nqV3fD_8sc"
      },
      "source": [
        "def nhapDaThuc(n):\n",
        "  dathuc = []\n",
        "  for i in reversed(range((n+1))):\n",
        "    a = int(input(f\"nhap he so bac {i}:  \"))\n",
        "    dathuc.append(a)\n",
        "  return dathuc\n"
      ],
      "execution_count": 2,
      "outputs": []
    },
    {
      "cell_type": "code",
      "metadata": {
        "id": "UM5B0PPoAYXW"
      },
      "source": [
        "# Hàm biểu diễn đa thức\n",
        "def bieuDienDaThuc(dathuc):\n",
        "  chuoi = \"\"\n",
        "  for (stt,i) in enumerate(reversed(dathuc)):\n",
        "    if stt == 0:\n",
        "      chuoi = str(i) + chuoi\n",
        "    else:\n",
        "      chuoi = f'{i}x^{stt} + {chuoi}'\n",
        "  print(chuoi)\n"
      ],
      "execution_count": 3,
      "outputs": []
    },
    {
      "cell_type": "code",
      "metadata": {
        "id": "r3bUiT_XA8KT"
      },
      "source": [
        "# Hàm cộng 2 đa thức\n",
        "\n",
        "def congDaThuc(dathuc_1, dathuc_2):\n",
        "  dathuctong = []\n",
        "  chenlecbac = abs(len(dathuc_1) - len(dathuc_2))\n",
        "  if len(dathuc_1) > len(dathuc_2):\n",
        "    dathuc_2 = chenlecbac * [0] + dathuc_2\n",
        "  else:\n",
        "    if len(dathuc_2) > len(dathuc_1):\n",
        "      dathuc_1 = chenlecbac * [0] + dathuc_1\n",
        "  for stt in range(len(dathuc_1)):\n",
        "    dathuctong.append(dathuc_1[stt]+dathuc_2[stt])\n",
        "  bieuDienDaThuc(dathuctong)\n",
        "  return dathuctong\n"
      ],
      "execution_count": 4,
      "outputs": []
    },
    {
      "cell_type": "code",
      "metadata": {
        "colab": {
          "base_uri": "https://localhost:8080/"
        },
        "id": "dXrboFCxBJCk",
        "outputId": "e048402e-d8a4-478e-c673-bb1d5f1198b8"
      },
      "source": [
        "A = nhapDaThuc(3)\n",
        "B = nhapDaThuc(4)\n"
      ],
      "execution_count": 5,
      "outputs": [
        {
          "output_type": "stream",
          "text": [
            "nhap he so bac 3:  1\n",
            "nhap he so bac 2:  4\n",
            "nhap he so bac 1:  3\n",
            "nhap he so bac 0:  1\n",
            "nhap he so bac 4:  0\n",
            "nhap he so bac 3:  2\n",
            "nhap he so bac 2:  4\n",
            "nhap he so bac 1:  5\n",
            "nhap he so bac 0:  1\n"
          ],
          "name": "stdout"
        }
      ]
    },
    {
      "cell_type": "code",
      "metadata": {
        "colab": {
          "base_uri": "https://localhost:8080/"
        },
        "id": "MDQv2zM-Ba8Z",
        "outputId": "adf64157-f663-4523-8d3e-738c29591937"
      },
      "source": [
        "bieuDienDaThuc(A)\n",
        "bieuDienDaThuc(B)\n"
      ],
      "execution_count": 6,
      "outputs": [
        {
          "output_type": "stream",
          "text": [
            "1x^3 + 4x^2 + 3x^1 + 1\n",
            "0x^4 + 2x^3 + 4x^2 + 5x^1 + 1\n"
          ],
          "name": "stdout"
        }
      ]
    },
    {
      "cell_type": "code",
      "metadata": {
        "colab": {
          "base_uri": "https://localhost:8080/"
        },
        "id": "9C8C0CQpBzyH",
        "outputId": "9902f3b2-14e5-4211-bbb2-5a6a5e9dccc3"
      },
      "source": [
        "congDaThuc(A, B)\n"
      ],
      "execution_count": 7,
      "outputs": [
        {
          "output_type": "stream",
          "text": [
            "0x^4 + 3x^3 + 8x^2 + 8x^1 + 2\n"
          ],
          "name": "stdout"
        },
        {
          "output_type": "execute_result",
          "data": {
            "text/plain": [
              "[0, 3, 8, 8, 2]"
            ]
          },
          "metadata": {
            "tags": []
          },
          "execution_count": 7
        }
      ]
    }
  ]
}