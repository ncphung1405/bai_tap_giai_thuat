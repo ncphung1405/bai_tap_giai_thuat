{
  "nbformat": 4,
  "nbformat_minor": 0,
  "metadata": {
    "colab": {
      "name": "BT13. Cài đặt đồ thị có hướng.ipynb",
      "provenance": [],
      "include_colab_link": true
    },
    "kernelspec": {
      "name": "python3",
      "display_name": "Python 3"
    },
    "language_info": {
      "name": "python"
    }
  },
  "cells": [
    {
      "cell_type": "markdown",
      "metadata": {
        "id": "view-in-github",
        "colab_type": "text"
      },
      "source": [
        "<a href=\"https://colab.research.google.com/github/ncphung1405/bai_tap_giai_thuat/blob/main/BT13_C%C3%A0i_%C4%91%E1%BA%B7t_%C4%91%E1%BB%93_th%E1%BB%8B_c%C3%B3_h%C6%B0%E1%BB%9Bng.ipynb\" target=\"_parent\"><img src=\"https://colab.research.google.com/assets/colab-badge.svg\" alt=\"Open In Colab\"/></a>"
      ]
    },
    {
      "cell_type": "code",
      "metadata": {
        "colab": {
          "base_uri": "https://localhost:8080/",
          "height": 248
        },
        "id": "BLkkACqFWuD7",
        "outputId": "7a1ce5b2-009b-4153-c0af-ab532baa095f"
      },
      "source": [
        "import networkx as nx\n",
        "import matplotlib.pyplot as plt\n",
        "\n",
        "G = nx.DiGraph()\n",
        "G.add_edges_from([('A','B'),('B','C'),('C','D'),('B','D'),('D','D')])\n",
        "\n",
        "red_edges = [('A', 'C'), ('E', 'C')]\n",
        "edge_colours = ['black' if not edge in red_edges else 'red'\n",
        "                for edge in G.edges()]\n",
        "black_edges = [edge for edge in G.edges() if edge not in red_edges]\n",
        "pos = nx.spring_layout(G)\n",
        "nx.draw_networkx_nodes(G, pos, cmap=plt.get_cmap('jet'), \n",
        "                       node_size = 500)\n",
        "nx.draw_networkx_labels(G, pos)\n",
        "nx.draw_networkx_edges(G, pos, edgelist=black_edges, arrows=True)\n",
        "plt.show()"
      ],
      "execution_count": null,
      "outputs": [
        {
          "output_type": "display_data",
          "data": {
            "image/png": "[encoded data removed]",
            "text/plain": [
              "<Figure size 432x288 with 1 Axes>"
            ]
          },
          "metadata": {
            "tags": []
          }
        }
      ]
    }
  ]
}