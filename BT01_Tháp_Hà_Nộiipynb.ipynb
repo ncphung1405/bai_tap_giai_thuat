{
  "nbformat": 4,
  "nbformat_minor": 0,
  "metadata": {
    "colab": {
      "name": "BT01. Tháp Hà Nộiipynb",
      "provenance": [],
      "include_colab_link": true
    },
    "kernelspec": {
      "name": "python3",
      "display_name": "Python 3"
    },
    "language_info": {
      "name": "python"
    }
  },
  "cells": [
    {
      "cell_type": "markdown",
      "metadata": {
        "id": "view-in-github",
        "colab_type": "text"
      },
      "source": [
        "<a href=\"https://colab.research.google.com/github/ncphung1405/bai_tap_giai_thuat/blob/main/BT01_Th%C3%A1p_H%C3%A0_N%E1%BB%99iipynb.ipynb\" target=\"_parent\"><img src=\"https://colab.research.google.com/assets/colab-badge.svg\" alt=\"Open In Colab\"/></a>"
      ]
    },
    {
      "cell_type": "code",
      "metadata": {
        "id": "16wijd5zTbhY",
        "colab": {
          "base_uri": "https://localhost:8080/"
        },
        "outputId": "68edb7a8-c350-4282-d506-72a115e4eb06"
      },
      "source": [
        "def thapHaNoi(n, toaMot, toaHai, toaBa):\n",
        "  if n == 1:\n",
        "\t  print(\"chuyen tu\", toaMot, \"sang\", toaBa)\n",
        "\n",
        "  else:\n",
        "\t  thapHaNoi(n-1, toaMot, toaBa, toaHai)\n",
        "\t  print(\"chuyen tu\", toaMot, \"sang\", toaBa)\n",
        "\t  thapHaNoi(n-1, toaHai, toaMot, toaBa)  \n",
        "   \n",
        "thapHaNoi(2,\"a\",\"b\",\"c\")"
      ],
      "execution_count": null,
      "outputs": [
        {
          "output_type": "stream",
          "text": [
            "chuyen tu a sang b\n",
            "chuyen tu a sang c\n",
            "chuyen tu b sang c\n"
          ],
          "name": "stdout"
        }
      ]
    }
  ]
}