{
  "nbformat": 4,
  "nbformat_minor": 0,
  "metadata": {
    "colab": {
      "name": "BT02. Ước số chung lớn nhất.ipynb",
      "provenance": [],
      "include_colab_link": true
    },
    "kernelspec": {
      "name": "python3",
      "display_name": "Python 3"
    },
    "language_info": {
      "name": "python"
    }
  },
  "cells": [
    {
      "cell_type": "markdown",
      "metadata": {
        "id": "view-in-github",
        "colab_type": "text"
      },
      "source": [
        "<a href=\"https://colab.research.google.com/github/ncphung1405/bai_tap_giai_thuat/blob/main/BT02_%C6%AF%E1%BB%9Bc_s%E1%BB%91_chung_l%E1%BB%9Bn_nh%E1%BA%A5t.ipynb\" target=\"_parent\"><img src=\"https://colab.research.google.com/assets/colab-badge.svg\" alt=\"Open In Colab\"/></a>"
      ]
    },
    {
      "cell_type": "code",
      "metadata": {
        "colab": {
          "base_uri": "https://localhost:8080/"
        },
        "id": "TFec9ERSS9pK",
        "outputId": "95de6379-1072-432f-f094-d448139fb5fb"
      },
      "source": [
        "def uscln(a, b):\n",
        "    if (b == 0):\n",
        "        return a;\n",
        "    return uscln(b, a % b);\n",
        "\n",
        " \n",
        "\n",
        "\n",
        "a = int(input(\"Nhập số nguyên dương a = \"));\n",
        "b = int(input(\"Nhập số nguyên dương b = \"));\n",
        "print(\"Ước số chung lớn nhất của\", a, \"và\", b, \"là:\", uscln(a, b));"
      ],
      "execution_count": null,
      "outputs": [
        {
          "output_type": "stream",
          "text": [
            "Nhập số nguyên dương a = 20\n",
            "Nhập số nguyên dương b = 100\n",
            "Ước số chung lớn nhất của 20 và 100 là: 20\n"
          ],
          "name": "stdout"
        }
      ]
    }
  ]
}